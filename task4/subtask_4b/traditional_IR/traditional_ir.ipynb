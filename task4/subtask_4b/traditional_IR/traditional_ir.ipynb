{
 "cells": [
  {
   "cell_type": "markdown",
   "metadata": {
    "id": "vpDCfBMouNAL"
   },
   "source": [
    "# 1) Importing data"
   ]
  },
  {
   "cell_type": "code",
   "metadata": {
    "executionInfo": {
     "elapsed": 403,
     "status": "ok",
     "timestamp": 1742975967136,
     "user": {
      "displayName": "Yavuz",
      "userId": "01318046262282431930"
     },
     "user_tz": -60
    },
    "id": "rQPqDKP_QHFM",
    "ExecuteTime": {
     "end_time": "2025-04-29T12:20:23.251250Z",
     "start_time": "2025-04-29T12:20:23.237061Z"
    }
   },
   "source": [
    "from cgitb import text\n",
    "\n",
    "import pandas as pd\n",
    "import numpy as np"
   ],
   "outputs": [],
   "execution_count": 21
  },
  {
   "cell_type": "markdown",
   "metadata": {
    "id": "u8N7h9BhQI5m"
   },
   "source": [
    "## 1.a) Import the collection set\n",
    "The collection set contains metadata of CORD-19 academic papers.\n",
    "\n",
    "The preprocessed and filtered CORD-19 dataset is available on the Gitlab repository here: https://gitlab.com/checkthat_lab/clef2025-checkthat-lab/-/tree/main/task4/subtask_4b\n",
    "\n",
    "Participants should first download the file then upload it on the Google Colab session with the following steps.\n"
   ]
  },
  {
   "cell_type": "code",
   "metadata": {
    "executionInfo": {
     "elapsed": 7,
     "status": "ok",
     "timestamp": 1742975971100,
     "user": {
      "displayName": "Yavuz",
      "userId": "01318046262282431930"
     },
     "user_tz": -60
    },
    "id": "2GQI4HcKR6hS",
    "ExecuteTime": {
     "end_time": "2025-04-29T12:20:23.296249Z",
     "start_time": "2025-04-29T12:20:23.285253Z"
    }
   },
   "source": [
    "# 1) Download the collection set from the Gitlab repository: https://gitlab.com/checkthat_lab/clef2025-checkthat-lab/-/tree/main/task4/subtask_4b\n",
    "# 2) Drag and drop the downloaded file to the \"Files\" section (left vertical menu on Colab)\n",
    "# 3) Modify the path to your local file path\n",
    "PATH_COLLECTION_DATA = '../subtask4b_collection_data.pkl' #MODIFY PATH"
   ],
   "outputs": [],
   "execution_count": 22
  },
  {
   "cell_type": "code",
   "metadata": {
    "executionInfo": {
     "elapsed": 42,
     "status": "ok",
     "timestamp": 1742975975524,
     "user": {
      "displayName": "Yavuz",
      "userId": "01318046262282431930"
     },
     "user_tz": -60
    },
    "id": "SYBB3UYbMwTA",
    "ExecuteTime": {
     "end_time": "2025-04-29T12:20:23.357249Z",
     "start_time": "2025-04-29T12:20:23.328250Z"
    }
   },
   "source": [
    "df_collection = pd.read_pickle(PATH_COLLECTION_DATA)"
   ],
   "outputs": [],
   "execution_count": 23
  },
  {
   "cell_type": "code",
   "metadata": {
    "colab": {
     "base_uri": "https://localhost:8080/"
    },
    "executionInfo": {
     "elapsed": 37,
     "status": "ok",
     "timestamp": 1742975976305,
     "user": {
      "displayName": "Yavuz",
      "userId": "01318046262282431930"
     },
     "user_tz": -60
    },
    "id": "4v3lygNOQQSn",
    "outputId": "ee5b9abd-f889-4a4e-ce11-32d2691433cb",
    "ExecuteTime": {
     "end_time": "2025-04-29T12:20:23.418250Z",
     "start_time": "2025-04-29T12:20:23.390251Z"
    }
   },
   "source": [
    "df_collection.info()"
   ],
   "outputs": [
    {
     "name": "stdout",
     "output_type": "stream",
     "text": [
      "<class 'pandas.core.frame.DataFrame'>\n",
      "Index: 7718 entries, 162 to 1056448\n",
      "Data columns (total 17 columns):\n",
      " #   Column            Non-Null Count  Dtype         \n",
      "---  ------            --------------  -----         \n",
      " 0   cord_uid          7718 non-null   object        \n",
      " 1   source_x          7718 non-null   object        \n",
      " 2   title             7718 non-null   object        \n",
      " 3   doi               7677 non-null   object        \n",
      " 4   pmcid             4959 non-null   object        \n",
      " 5   pubmed_id         6233 non-null   object        \n",
      " 6   license           7718 non-null   object        \n",
      " 7   abstract          7718 non-null   object        \n",
      " 8   publish_time      7715 non-null   object        \n",
      " 9   authors           7674 non-null   object        \n",
      " 10  journal           6668 non-null   object        \n",
      " 11  mag_id            0 non-null      float64       \n",
      " 12  who_covidence_id  528 non-null    object        \n",
      " 13  arxiv_id          20 non-null     object        \n",
      " 14  label             7718 non-null   object        \n",
      " 15  time              7715 non-null   datetime64[ns]\n",
      " 16  timet             7718 non-null   int64         \n",
      "dtypes: datetime64[ns](1), float64(1), int64(1), object(14)\n",
      "memory usage: 1.1+ MB\n"
     ]
    }
   ],
   "execution_count": 24
  },
  {
   "cell_type": "code",
   "metadata": {
    "colab": {
     "base_uri": "https://localhost:8080/",
     "height": 608
    },
    "executionInfo": {
     "elapsed": 211,
     "status": "ok",
     "timestamp": 1742975978238,
     "user": {
      "displayName": "Yavuz",
      "userId": "01318046262282431930"
     },
     "user_tz": -60
    },
    "id": "9veNFFGDZRx7",
    "outputId": "5eec7f85-7d20-44d7-8986-a85cb00533d8",
    "ExecuteTime": {
     "end_time": "2025-04-29T12:20:23.480250Z",
     "start_time": "2025-04-29T12:20:23.450250Z"
    }
   },
   "source": "df_collection",
   "outputs": [
    {
     "data": {
      "text/plain": [
       "         cord_uid      source_x  \\\n",
       "162      umvrwgaw           PMC   \n",
       "611      spiud6ok           PMC   \n",
       "918      aclzp3iy           PMC   \n",
       "993      ycxyn2a2           PMC   \n",
       "1053     zxe95qy9           PMC   \n",
       "...           ...           ...   \n",
       "1055874  w094r17f  Medline; PMC   \n",
       "1056107  wtqwghon  MedRxiv; WHO   \n",
       "1056228  r5rctvul  Medline; PMC   \n",
       "1056344  yjqt74q0  Medline; PMC   \n",
       "1056448  c5be70t6  MedRxiv; WHO   \n",
       "\n",
       "                                                     title  \\\n",
       "162      Professional and Home-Made Face Masks Reduce E...   \n",
       "611                                   The Failure of R (0)   \n",
       "918      Pulmonary sequelae in a patient recovered from...   \n",
       "993      What was the primary mode of smallpox transmis...   \n",
       "1053     Lessons from the History of Quarantine, from P...   \n",
       "...                                                    ...   \n",
       "1055874  COVID-19 increased the risk of ICU-acquired bl...   \n",
       "1056107  Relative disease burdens of COVID-19 and seaso...   \n",
       "1056228          COVID‐19 and the Gender Gap in Work Hours   \n",
       "1056344  Prior infection by seasonal coronaviruses, as ...   \n",
       "1056448  The role of asymptomatic SARS-CoV-2 infections...   \n",
       "\n",
       "                                             doi       pmcid pubmed_id  \\\n",
       "162                 10.1371/journal.pone.0002618  PMC2440799  18612429   \n",
       "611                          10.1155/2011/527610  PMC3157160  21860658   \n",
       "918                      10.4103/0970-2113.99118  PMC3424870  22919170   \n",
       "993                     10.3389/fcimb.2012.00150  PMC3509329  23226686   \n",
       "1053                      10.3201/eid1902.120312  PMC3559034  23343512   \n",
       "...                                          ...         ...       ...   \n",
       "1055874               10.1007/s00134-021-06346-w  PMC7839935  33506379   \n",
       "1056107              10.1101/2020.04.22.20073551         NaN       NaN   \n",
       "1056228                       10.1111/gwao.12506  PMC7361447  32837019   \n",
       "1056344  10.2807/1560-7917.es.2021.26.13.2001782  PMC8017906  33797390   \n",
       "1056448              10.1101/2020.04.25.20079103         NaN       NaN   \n",
       "\n",
       "             license                                           abstract  \\\n",
       "162            cc-by  BACKGROUND: Governments are preparing for a po...   \n",
       "611            cc-by  The basic reproductive ratio, R (0), is one of...   \n",
       "918      cc-by-nc-sa  The pandemic of swine flu (H1N1) influenza spr...   \n",
       "993            cc-by  The mode of infection transmission has profoun...   \n",
       "1053           no-cc  In the new millennium, the centuries-old strat...   \n",
       "...              ...                                                ...   \n",
       "1055874        no-cc  PURPOSE: The primary objective of this study w...   \n",
       "1056107      medrxiv  Comparisons between the mortality burdens of C...   \n",
       "1056228        no-cc  School and daycare closures due to the COVID‐1...   \n",
       "1056344        cc-by  BACKGROUND: Children have a low rate of COVID-...   \n",
       "1056448      medrxiv  Background: There is substantial disagreement ...   \n",
       "\n",
       "        publish_time                                            authors  \\\n",
       "162       2008-07-09  van der Sande, Marianne; Teunis, Peter; Sabel,...   \n",
       "611       2011-08-16      Li, Jing; Blakeley, Daniel; Smith?, Robert J.   \n",
       "918             2012  Singh, Virendra; Sharma, Bharat Bhushan; Patel...   \n",
       "993       2012-11-29                                  Milton, Donald K.   \n",
       "1053      2013-02-03                                  Tognotti, Eugenia   \n",
       "...              ...                                                ...   \n",
       "1055874   2021-01-27  Buetti, Niccolò; Ruckly, Stéphane; de Montmoll...   \n",
       "1056107   2020-04-27                     Faust, Jeremy; del Rio, Carlos   \n",
       "1056228   2020-07-02  Collins, Caitlyn; Landivar, Liana Christin; Ru...   \n",
       "1056344   2021-04-01  Sermet-Gaudelus, Isabelle; Temmam, Sarah; Huon...   \n",
       "1056448   2020-04-29  Buitrago-Garcia, D. C.; Egli-Gany, D.; Counott...   \n",
       "\n",
       "                             journal  mag_id who_covidence_id arxiv_id  \\\n",
       "162                         PLoS One     NaN              NaN      NaN   \n",
       "611          Comput Math Methods Med     NaN              NaN      NaN   \n",
       "918                       Lung India     NaN              NaN      NaN   \n",
       "993      Front Cell Infect Microbiol     NaN              NaN      NaN   \n",
       "1053                Emerg Infect Dis     NaN              NaN      NaN   \n",
       "...                              ...     ...              ...      ...   \n",
       "1055874           Intensive Care Med     NaN              NaN      NaN   \n",
       "1056107                          NaN     NaN              NaN      NaN   \n",
       "1056228              Gend Work Organ     NaN              NaN      NaN   \n",
       "1056344                Euro Surveill     NaN              NaN      NaN   \n",
       "1056448                          NaN     NaN              NaN      NaN   \n",
       "\n",
       "            label       time       timet  \n",
       "162      umvrwgaw 2008-07-09  1215561600  \n",
       "611      spiud6ok 2011-08-16  1313452800  \n",
       "918      aclzp3iy 2012-01-01  1325376000  \n",
       "993      ycxyn2a2 2012-11-29  1354147200  \n",
       "1053     zxe95qy9 2013-02-03  1359849600  \n",
       "...           ...        ...         ...  \n",
       "1055874  w094r17f 2021-01-27  1611705600  \n",
       "1056107  wtqwghon 2020-04-27  1587945600  \n",
       "1056228  r5rctvul 2020-07-02  1593648000  \n",
       "1056344  yjqt74q0 2021-04-01  1617235200  \n",
       "1056448  c5be70t6 2020-04-29  1588118400  \n",
       "\n",
       "[7718 rows x 17 columns]"
      ],
      "text/html": [
       "<div>\n",
       "<style scoped>\n",
       "    .dataframe tbody tr th:only-of-type {\n",
       "        vertical-align: middle;\n",
       "    }\n",
       "\n",
       "    .dataframe tbody tr th {\n",
       "        vertical-align: top;\n",
       "    }\n",
       "\n",
       "    .dataframe thead th {\n",
       "        text-align: right;\n",
       "    }\n",
       "</style>\n",
       "<table border=\"1\" class=\"dataframe\">\n",
       "  <thead>\n",
       "    <tr style=\"text-align: right;\">\n",
       "      <th></th>\n",
       "      <th>cord_uid</th>\n",
       "      <th>source_x</th>\n",
       "      <th>title</th>\n",
       "      <th>doi</th>\n",
       "      <th>pmcid</th>\n",
       "      <th>pubmed_id</th>\n",
       "      <th>license</th>\n",
       "      <th>abstract</th>\n",
       "      <th>publish_time</th>\n",
       "      <th>authors</th>\n",
       "      <th>journal</th>\n",
       "      <th>mag_id</th>\n",
       "      <th>who_covidence_id</th>\n",
       "      <th>arxiv_id</th>\n",
       "      <th>label</th>\n",
       "      <th>time</th>\n",
       "      <th>timet</th>\n",
       "    </tr>\n",
       "  </thead>\n",
       "  <tbody>\n",
       "    <tr>\n",
       "      <th>162</th>\n",
       "      <td>umvrwgaw</td>\n",
       "      <td>PMC</td>\n",
       "      <td>Professional and Home-Made Face Masks Reduce E...</td>\n",
       "      <td>10.1371/journal.pone.0002618</td>\n",
       "      <td>PMC2440799</td>\n",
       "      <td>18612429</td>\n",
       "      <td>cc-by</td>\n",
       "      <td>BACKGROUND: Governments are preparing for a po...</td>\n",
       "      <td>2008-07-09</td>\n",
       "      <td>van der Sande, Marianne; Teunis, Peter; Sabel,...</td>\n",
       "      <td>PLoS One</td>\n",
       "      <td>NaN</td>\n",
       "      <td>NaN</td>\n",
       "      <td>NaN</td>\n",
       "      <td>umvrwgaw</td>\n",
       "      <td>2008-07-09</td>\n",
       "      <td>1215561600</td>\n",
       "    </tr>\n",
       "    <tr>\n",
       "      <th>611</th>\n",
       "      <td>spiud6ok</td>\n",
       "      <td>PMC</td>\n",
       "      <td>The Failure of R (0)</td>\n",
       "      <td>10.1155/2011/527610</td>\n",
       "      <td>PMC3157160</td>\n",
       "      <td>21860658</td>\n",
       "      <td>cc-by</td>\n",
       "      <td>The basic reproductive ratio, R (0), is one of...</td>\n",
       "      <td>2011-08-16</td>\n",
       "      <td>Li, Jing; Blakeley, Daniel; Smith?, Robert J.</td>\n",
       "      <td>Comput Math Methods Med</td>\n",
       "      <td>NaN</td>\n",
       "      <td>NaN</td>\n",
       "      <td>NaN</td>\n",
       "      <td>spiud6ok</td>\n",
       "      <td>2011-08-16</td>\n",
       "      <td>1313452800</td>\n",
       "    </tr>\n",
       "    <tr>\n",
       "      <th>918</th>\n",
       "      <td>aclzp3iy</td>\n",
       "      <td>PMC</td>\n",
       "      <td>Pulmonary sequelae in a patient recovered from...</td>\n",
       "      <td>10.4103/0970-2113.99118</td>\n",
       "      <td>PMC3424870</td>\n",
       "      <td>22919170</td>\n",
       "      <td>cc-by-nc-sa</td>\n",
       "      <td>The pandemic of swine flu (H1N1) influenza spr...</td>\n",
       "      <td>2012</td>\n",
       "      <td>Singh, Virendra; Sharma, Bharat Bhushan; Patel...</td>\n",
       "      <td>Lung India</td>\n",
       "      <td>NaN</td>\n",
       "      <td>NaN</td>\n",
       "      <td>NaN</td>\n",
       "      <td>aclzp3iy</td>\n",
       "      <td>2012-01-01</td>\n",
       "      <td>1325376000</td>\n",
       "    </tr>\n",
       "    <tr>\n",
       "      <th>993</th>\n",
       "      <td>ycxyn2a2</td>\n",
       "      <td>PMC</td>\n",
       "      <td>What was the primary mode of smallpox transmis...</td>\n",
       "      <td>10.3389/fcimb.2012.00150</td>\n",
       "      <td>PMC3509329</td>\n",
       "      <td>23226686</td>\n",
       "      <td>cc-by</td>\n",
       "      <td>The mode of infection transmission has profoun...</td>\n",
       "      <td>2012-11-29</td>\n",
       "      <td>Milton, Donald K.</td>\n",
       "      <td>Front Cell Infect Microbiol</td>\n",
       "      <td>NaN</td>\n",
       "      <td>NaN</td>\n",
       "      <td>NaN</td>\n",
       "      <td>ycxyn2a2</td>\n",
       "      <td>2012-11-29</td>\n",
       "      <td>1354147200</td>\n",
       "    </tr>\n",
       "    <tr>\n",
       "      <th>1053</th>\n",
       "      <td>zxe95qy9</td>\n",
       "      <td>PMC</td>\n",
       "      <td>Lessons from the History of Quarantine, from P...</td>\n",
       "      <td>10.3201/eid1902.120312</td>\n",
       "      <td>PMC3559034</td>\n",
       "      <td>23343512</td>\n",
       "      <td>no-cc</td>\n",
       "      <td>In the new millennium, the centuries-old strat...</td>\n",
       "      <td>2013-02-03</td>\n",
       "      <td>Tognotti, Eugenia</td>\n",
       "      <td>Emerg Infect Dis</td>\n",
       "      <td>NaN</td>\n",
       "      <td>NaN</td>\n",
       "      <td>NaN</td>\n",
       "      <td>zxe95qy9</td>\n",
       "      <td>2013-02-03</td>\n",
       "      <td>1359849600</td>\n",
       "    </tr>\n",
       "    <tr>\n",
       "      <th>...</th>\n",
       "      <td>...</td>\n",
       "      <td>...</td>\n",
       "      <td>...</td>\n",
       "      <td>...</td>\n",
       "      <td>...</td>\n",
       "      <td>...</td>\n",
       "      <td>...</td>\n",
       "      <td>...</td>\n",
       "      <td>...</td>\n",
       "      <td>...</td>\n",
       "      <td>...</td>\n",
       "      <td>...</td>\n",
       "      <td>...</td>\n",
       "      <td>...</td>\n",
       "      <td>...</td>\n",
       "      <td>...</td>\n",
       "      <td>...</td>\n",
       "    </tr>\n",
       "    <tr>\n",
       "      <th>1055874</th>\n",
       "      <td>w094r17f</td>\n",
       "      <td>Medline; PMC</td>\n",
       "      <td>COVID-19 increased the risk of ICU-acquired bl...</td>\n",
       "      <td>10.1007/s00134-021-06346-w</td>\n",
       "      <td>PMC7839935</td>\n",
       "      <td>33506379</td>\n",
       "      <td>no-cc</td>\n",
       "      <td>PURPOSE: The primary objective of this study w...</td>\n",
       "      <td>2021-01-27</td>\n",
       "      <td>Buetti, Niccolò; Ruckly, Stéphane; de Montmoll...</td>\n",
       "      <td>Intensive Care Med</td>\n",
       "      <td>NaN</td>\n",
       "      <td>NaN</td>\n",
       "      <td>NaN</td>\n",
       "      <td>w094r17f</td>\n",
       "      <td>2021-01-27</td>\n",
       "      <td>1611705600</td>\n",
       "    </tr>\n",
       "    <tr>\n",
       "      <th>1056107</th>\n",
       "      <td>wtqwghon</td>\n",
       "      <td>MedRxiv; WHO</td>\n",
       "      <td>Relative disease burdens of COVID-19 and seaso...</td>\n",
       "      <td>10.1101/2020.04.22.20073551</td>\n",
       "      <td>NaN</td>\n",
       "      <td>NaN</td>\n",
       "      <td>medrxiv</td>\n",
       "      <td>Comparisons between the mortality burdens of C...</td>\n",
       "      <td>2020-04-27</td>\n",
       "      <td>Faust, Jeremy; del Rio, Carlos</td>\n",
       "      <td>NaN</td>\n",
       "      <td>NaN</td>\n",
       "      <td>NaN</td>\n",
       "      <td>NaN</td>\n",
       "      <td>wtqwghon</td>\n",
       "      <td>2020-04-27</td>\n",
       "      <td>1587945600</td>\n",
       "    </tr>\n",
       "    <tr>\n",
       "      <th>1056228</th>\n",
       "      <td>r5rctvul</td>\n",
       "      <td>Medline; PMC</td>\n",
       "      <td>COVID‐19 and the Gender Gap in Work Hours</td>\n",
       "      <td>10.1111/gwao.12506</td>\n",
       "      <td>PMC7361447</td>\n",
       "      <td>32837019</td>\n",
       "      <td>no-cc</td>\n",
       "      <td>School and daycare closures due to the COVID‐1...</td>\n",
       "      <td>2020-07-02</td>\n",
       "      <td>Collins, Caitlyn; Landivar, Liana Christin; Ru...</td>\n",
       "      <td>Gend Work Organ</td>\n",
       "      <td>NaN</td>\n",
       "      <td>NaN</td>\n",
       "      <td>NaN</td>\n",
       "      <td>r5rctvul</td>\n",
       "      <td>2020-07-02</td>\n",
       "      <td>1593648000</td>\n",
       "    </tr>\n",
       "    <tr>\n",
       "      <th>1056344</th>\n",
       "      <td>yjqt74q0</td>\n",
       "      <td>Medline; PMC</td>\n",
       "      <td>Prior infection by seasonal coronaviruses, as ...</td>\n",
       "      <td>10.2807/1560-7917.es.2021.26.13.2001782</td>\n",
       "      <td>PMC8017906</td>\n",
       "      <td>33797390</td>\n",
       "      <td>cc-by</td>\n",
       "      <td>BACKGROUND: Children have a low rate of COVID-...</td>\n",
       "      <td>2021-04-01</td>\n",
       "      <td>Sermet-Gaudelus, Isabelle; Temmam, Sarah; Huon...</td>\n",
       "      <td>Euro Surveill</td>\n",
       "      <td>NaN</td>\n",
       "      <td>NaN</td>\n",
       "      <td>NaN</td>\n",
       "      <td>yjqt74q0</td>\n",
       "      <td>2021-04-01</td>\n",
       "      <td>1617235200</td>\n",
       "    </tr>\n",
       "    <tr>\n",
       "      <th>1056448</th>\n",
       "      <td>c5be70t6</td>\n",
       "      <td>MedRxiv; WHO</td>\n",
       "      <td>The role of asymptomatic SARS-CoV-2 infections...</td>\n",
       "      <td>10.1101/2020.04.25.20079103</td>\n",
       "      <td>NaN</td>\n",
       "      <td>NaN</td>\n",
       "      <td>medrxiv</td>\n",
       "      <td>Background: There is substantial disagreement ...</td>\n",
       "      <td>2020-04-29</td>\n",
       "      <td>Buitrago-Garcia, D. C.; Egli-Gany, D.; Counott...</td>\n",
       "      <td>NaN</td>\n",
       "      <td>NaN</td>\n",
       "      <td>NaN</td>\n",
       "      <td>NaN</td>\n",
       "      <td>c5be70t6</td>\n",
       "      <td>2020-04-29</td>\n",
       "      <td>1588118400</td>\n",
       "    </tr>\n",
       "  </tbody>\n",
       "</table>\n",
       "<p>7718 rows × 17 columns</p>\n",
       "</div>"
      ]
     },
     "execution_count": 25,
     "metadata": {},
     "output_type": "execute_result"
    }
   ],
   "execution_count": 25
  },
  {
   "cell_type": "markdown",
   "metadata": {
    "id": "AAUiDU0xXLBt"
   },
   "source": [
    "## 1.b) Import the query set\n",
    "\n",
    "The query set contains tweets with implicit references to academic papers from the collection set.\n",
    "\n",
    "The preprocessed query set is available on the Gitlab repository here: https://gitlab.com/checkthat_lab/clef2025-checkthat-lab/-/tree/main/task4/subtask_4b\n",
    "\n",
    "Participants should first download the file then upload it on the Google Colab session with the following steps."
   ]
  },
  {
   "cell_type": "code",
   "metadata": {
    "executionInfo": {
     "elapsed": 11,
     "status": "ok",
     "timestamp": 1742975982410,
     "user": {
      "displayName": "Yavuz",
      "userId": "01318046262282431930"
     },
     "user_tz": -60
    },
    "id": "v8gwkZDSXPsd",
    "ExecuteTime": {
     "end_time": "2025-04-29T12:20:23.573251Z",
     "start_time": "2025-04-29T12:20:23.559250Z"
    }
   },
   "source": [
    "# 1) Download the query tweets from the Gitlab repository: https://gitlab.com/checkthat_lab/clef2025-checkthat-lab/-/tree/main/task4/subtask_4b?ref_type=heads\n",
    "# 2) Drag and drop the downloaded file to the \"Files\" section (left vertical menu on Colab)\n",
    "# 3) Modify the path to your local file path\n",
    "PATH_QUERY_TRAIN_DATA = '../subtask4b_query_tweets_train.tsv' #MODIFY PATH\n",
    "PATH_QUERY_DEV_DATA = '../subtask4b_query_tweets_dev.tsv' #MODIFY PATH"
   ],
   "outputs": [],
   "execution_count": 26
  },
  {
   "cell_type": "code",
   "metadata": {
    "executionInfo": {
     "elapsed": 17,
     "status": "ok",
     "timestamp": 1742976006985,
     "user": {
      "displayName": "Yavuz",
      "userId": "01318046262282431930"
     },
     "user_tz": -60
    },
    "id": "VqxjYq2tYDmE",
    "ExecuteTime": {
     "end_time": "2025-04-29T12:20:23.745249Z",
     "start_time": "2025-04-29T12:20:23.678251Z"
    }
   },
   "source": [
    "df_query_train = pd.read_csv(PATH_QUERY_TRAIN_DATA, sep = '\\t')\n",
    "df_query_dev = pd.read_csv(PATH_QUERY_DEV_DATA, sep = '\\t')"
   ],
   "outputs": [],
   "execution_count": 27
  },
  {
   "cell_type": "code",
   "metadata": {
    "id": "szMEK3OkYLvX",
    "ExecuteTime": {
     "end_time": "2025-04-29T13:31:53.874324Z",
     "start_time": "2025-04-29T13:31:53.833325Z"
    }
   },
   "source": "df_query_train",
   "outputs": [
    {
     "data": {
      "text/plain": [
       "       post_id                                         tweet_text  cord_uid  \\\n",
       "0            0  Oral care in rehabilitation medicine: oral vul...  htlvpvz5   \n",
       "1            1  this study isn't receiving sufficient attentio...  4kfl29ul   \n",
       "2            2  thanks, xi jinping. a reminder that this study...  jtwb17u8   \n",
       "3            3  Taiwan - a population of 23 million has had ju...  0w9k8iy1   \n",
       "4            4  Obtaining a diagnosis of autism in lower incom...  tiqksd69   \n",
       "...        ...                                                ...       ...   \n",
       "12848    14248  \"evidence on covid-19 reveals a growing body o...  9169o29b   \n",
       "12849    14249  Outdoor lighting has detrimental impacts on lo...  s2bpha8l   \n",
       "12850    14250  26/ and influenza virus (and other pathogens, ...  atloc9th   \n",
       "12851    14251  does it?'sars-cov-2-naïve vaccinees had a 13.0...  t4y1ylb3   \n",
       "12852    14252  when \"the airway immune cells of children are ...  nlsv8bin   \n",
       "\n",
       "                                      weighted_bm25_topk   in_topx  \n",
       "0      [htlvpvz5, h7hj64q5, tpovr13h, rwgqkow3, 32z7b...  1.000000  \n",
       "1      [apqzyln2, 33znyrn8, lvvw1npq, 296ilxyg, fm8ko...  0.000000  \n",
       "2      [jtwb17u8, a0q61mpi, veeavho5, jbpmbm9m, 8hkxb...  1.000000  \n",
       "3      [lsgm7y5t, l5ogbl5p, 0w9k8iy1, l4y7v729, 9g0lo...  0.333333  \n",
       "4      [tiqksd69, b0dzhsrh, k7smwz6w, aqbhxv1f, uppez...  1.000000  \n",
       "...                                                  ...       ...  \n",
       "12848  [9169o29b, 1y1ik2u9, dgng39yd, l9lni5d3, jgq96...  1.000000  \n",
       "12849  [s2bpha8l, 8a3fp7ym, lvw0cnwj, zueprmdz, nwb7q...  1.000000  \n",
       "12850  [y7s6qt6j, asj7352n, w19729nl, futzwn98, lavcs...  0.000000  \n",
       "12851  [t4y1ylb3, 7a543f7v, a4klrp3h, o86wki37, sjsaw...  1.000000  \n",
       "12852  [nlsv8bin, npd9wz3u, 8gh3q7p3, 2s1io2fg, t6de1...  1.000000  \n",
       "\n",
       "[12853 rows x 5 columns]"
      ],
      "text/html": [
       "<div>\n",
       "<style scoped>\n",
       "    .dataframe tbody tr th:only-of-type {\n",
       "        vertical-align: middle;\n",
       "    }\n",
       "\n",
       "    .dataframe tbody tr th {\n",
       "        vertical-align: top;\n",
       "    }\n",
       "\n",
       "    .dataframe thead th {\n",
       "        text-align: right;\n",
       "    }\n",
       "</style>\n",
       "<table border=\"1\" class=\"dataframe\">\n",
       "  <thead>\n",
       "    <tr style=\"text-align: right;\">\n",
       "      <th></th>\n",
       "      <th>post_id</th>\n",
       "      <th>tweet_text</th>\n",
       "      <th>cord_uid</th>\n",
       "      <th>weighted_bm25_topk</th>\n",
       "      <th>in_topx</th>\n",
       "    </tr>\n",
       "  </thead>\n",
       "  <tbody>\n",
       "    <tr>\n",
       "      <th>0</th>\n",
       "      <td>0</td>\n",
       "      <td>Oral care in rehabilitation medicine: oral vul...</td>\n",
       "      <td>htlvpvz5</td>\n",
       "      <td>[htlvpvz5, h7hj64q5, tpovr13h, rwgqkow3, 32z7b...</td>\n",
       "      <td>1.000000</td>\n",
       "    </tr>\n",
       "    <tr>\n",
       "      <th>1</th>\n",
       "      <td>1</td>\n",
       "      <td>this study isn't receiving sufficient attentio...</td>\n",
       "      <td>4kfl29ul</td>\n",
       "      <td>[apqzyln2, 33znyrn8, lvvw1npq, 296ilxyg, fm8ko...</td>\n",
       "      <td>0.000000</td>\n",
       "    </tr>\n",
       "    <tr>\n",
       "      <th>2</th>\n",
       "      <td>2</td>\n",
       "      <td>thanks, xi jinping. a reminder that this study...</td>\n",
       "      <td>jtwb17u8</td>\n",
       "      <td>[jtwb17u8, a0q61mpi, veeavho5, jbpmbm9m, 8hkxb...</td>\n",
       "      <td>1.000000</td>\n",
       "    </tr>\n",
       "    <tr>\n",
       "      <th>3</th>\n",
       "      <td>3</td>\n",
       "      <td>Taiwan - a population of 23 million has had ju...</td>\n",
       "      <td>0w9k8iy1</td>\n",
       "      <td>[lsgm7y5t, l5ogbl5p, 0w9k8iy1, l4y7v729, 9g0lo...</td>\n",
       "      <td>0.333333</td>\n",
       "    </tr>\n",
       "    <tr>\n",
       "      <th>4</th>\n",
       "      <td>4</td>\n",
       "      <td>Obtaining a diagnosis of autism in lower incom...</td>\n",
       "      <td>tiqksd69</td>\n",
       "      <td>[tiqksd69, b0dzhsrh, k7smwz6w, aqbhxv1f, uppez...</td>\n",
       "      <td>1.000000</td>\n",
       "    </tr>\n",
       "    <tr>\n",
       "      <th>...</th>\n",
       "      <td>...</td>\n",
       "      <td>...</td>\n",
       "      <td>...</td>\n",
       "      <td>...</td>\n",
       "      <td>...</td>\n",
       "    </tr>\n",
       "    <tr>\n",
       "      <th>12848</th>\n",
       "      <td>14248</td>\n",
       "      <td>\"evidence on covid-19 reveals a growing body o...</td>\n",
       "      <td>9169o29b</td>\n",
       "      <td>[9169o29b, 1y1ik2u9, dgng39yd, l9lni5d3, jgq96...</td>\n",
       "      <td>1.000000</td>\n",
       "    </tr>\n",
       "    <tr>\n",
       "      <th>12849</th>\n",
       "      <td>14249</td>\n",
       "      <td>Outdoor lighting has detrimental impacts on lo...</td>\n",
       "      <td>s2bpha8l</td>\n",
       "      <td>[s2bpha8l, 8a3fp7ym, lvw0cnwj, zueprmdz, nwb7q...</td>\n",
       "      <td>1.000000</td>\n",
       "    </tr>\n",
       "    <tr>\n",
       "      <th>12850</th>\n",
       "      <td>14250</td>\n",
       "      <td>26/ and influenza virus (and other pathogens, ...</td>\n",
       "      <td>atloc9th</td>\n",
       "      <td>[y7s6qt6j, asj7352n, w19729nl, futzwn98, lavcs...</td>\n",
       "      <td>0.000000</td>\n",
       "    </tr>\n",
       "    <tr>\n",
       "      <th>12851</th>\n",
       "      <td>14251</td>\n",
       "      <td>does it?'sars-cov-2-naïve vaccinees had a 13.0...</td>\n",
       "      <td>t4y1ylb3</td>\n",
       "      <td>[t4y1ylb3, 7a543f7v, a4klrp3h, o86wki37, sjsaw...</td>\n",
       "      <td>1.000000</td>\n",
       "    </tr>\n",
       "    <tr>\n",
       "      <th>12852</th>\n",
       "      <td>14252</td>\n",
       "      <td>when \"the airway immune cells of children are ...</td>\n",
       "      <td>nlsv8bin</td>\n",
       "      <td>[nlsv8bin, npd9wz3u, 8gh3q7p3, 2s1io2fg, t6de1...</td>\n",
       "      <td>1.000000</td>\n",
       "    </tr>\n",
       "  </tbody>\n",
       "</table>\n",
       "<p>12853 rows × 5 columns</p>\n",
       "</div>"
      ]
     },
     "execution_count": 55,
     "metadata": {},
     "output_type": "execute_result"
    }
   ],
   "execution_count": 55
  },
  {
   "cell_type": "code",
   "metadata": {
    "id": "aslmTTJQyL2X",
    "ExecuteTime": {
     "end_time": "2025-04-29T12:20:23.905249Z",
     "start_time": "2025-04-29T12:20:23.891250Z"
    }
   },
   "source": [
    "df_query_train.info()"
   ],
   "outputs": [
    {
     "name": "stdout",
     "output_type": "stream",
     "text": [
      "<class 'pandas.core.frame.DataFrame'>\n",
      "RangeIndex: 12853 entries, 0 to 12852\n",
      "Data columns (total 3 columns):\n",
      " #   Column      Non-Null Count  Dtype \n",
      "---  ------      --------------  ----- \n",
      " 0   post_id     12853 non-null  int64 \n",
      " 1   tweet_text  12853 non-null  object\n",
      " 2   cord_uid    12853 non-null  object\n",
      "dtypes: int64(1), object(2)\n",
      "memory usage: 301.4+ KB\n"
     ]
    }
   ],
   "execution_count": 29
  },
  {
   "cell_type": "code",
   "source": [
    "df_query_dev.head()"
   ],
   "metadata": {
    "colab": {
     "base_uri": "https://localhost:8080/",
     "height": 206
    },
    "id": "B5X8FwLhLY3u",
    "executionInfo": {
     "status": "ok",
     "timestamp": 1742976030778,
     "user_tz": -60,
     "elapsed": 28,
     "user": {
      "displayName": "Yavuz",
      "userId": "01318046262282431930"
     }
    },
    "outputId": "36e21737-8257-4568-8346-0d3e0980ee53",
    "ExecuteTime": {
     "end_time": "2025-04-29T12:20:24.013249Z",
     "start_time": "2025-04-29T12:20:24.003253Z"
    }
   },
   "outputs": [
    {
     "data": {
      "text/plain": [
       "   post_id                                         tweet_text  cord_uid\n",
       "0       16  covid recovery: this study from the usa reveal...  3qvh482o\n",
       "1       69  \"Among 139 clients exposed to two symptomatic ...  r58aohnu\n",
       "2       73  I recall early on reading that researchers who...  sts48u9i\n",
       "3       93  You know you're credible when NIH website has ...  3sr2exq9\n",
       "4       96  Resistance to antifungal medications is a grow...  ybwwmyqy"
      ],
      "text/html": [
       "<div>\n",
       "<style scoped>\n",
       "    .dataframe tbody tr th:only-of-type {\n",
       "        vertical-align: middle;\n",
       "    }\n",
       "\n",
       "    .dataframe tbody tr th {\n",
       "        vertical-align: top;\n",
       "    }\n",
       "\n",
       "    .dataframe thead th {\n",
       "        text-align: right;\n",
       "    }\n",
       "</style>\n",
       "<table border=\"1\" class=\"dataframe\">\n",
       "  <thead>\n",
       "    <tr style=\"text-align: right;\">\n",
       "      <th></th>\n",
       "      <th>post_id</th>\n",
       "      <th>tweet_text</th>\n",
       "      <th>cord_uid</th>\n",
       "    </tr>\n",
       "  </thead>\n",
       "  <tbody>\n",
       "    <tr>\n",
       "      <th>0</th>\n",
       "      <td>16</td>\n",
       "      <td>covid recovery: this study from the usa reveal...</td>\n",
       "      <td>3qvh482o</td>\n",
       "    </tr>\n",
       "    <tr>\n",
       "      <th>1</th>\n",
       "      <td>69</td>\n",
       "      <td>\"Among 139 clients exposed to two symptomatic ...</td>\n",
       "      <td>r58aohnu</td>\n",
       "    </tr>\n",
       "    <tr>\n",
       "      <th>2</th>\n",
       "      <td>73</td>\n",
       "      <td>I recall early on reading that researchers who...</td>\n",
       "      <td>sts48u9i</td>\n",
       "    </tr>\n",
       "    <tr>\n",
       "      <th>3</th>\n",
       "      <td>93</td>\n",
       "      <td>You know you're credible when NIH website has ...</td>\n",
       "      <td>3sr2exq9</td>\n",
       "    </tr>\n",
       "    <tr>\n",
       "      <th>4</th>\n",
       "      <td>96</td>\n",
       "      <td>Resistance to antifungal medications is a grow...</td>\n",
       "      <td>ybwwmyqy</td>\n",
       "    </tr>\n",
       "  </tbody>\n",
       "</table>\n",
       "</div>"
      ]
     },
     "execution_count": 30,
     "metadata": {},
     "output_type": "execute_result"
    }
   ],
   "execution_count": 30
  },
  {
   "cell_type": "code",
   "source": [
    "df_query_dev.info()"
   ],
   "metadata": {
    "colab": {
     "base_uri": "https://localhost:8080/"
    },
    "id": "t6gDlBZnLcdH",
    "executionInfo": {
     "status": "ok",
     "timestamp": 1742976032804,
     "user_tz": -60,
     "elapsed": 14,
     "user": {
      "displayName": "Yavuz",
      "userId": "01318046262282431930"
     }
    },
    "outputId": "11cd57d2-a4b7-4b06-a9af-9ba5e29c191b",
    "ExecuteTime": {
     "end_time": "2025-04-29T12:20:24.105252Z",
     "start_time": "2025-04-29T12:20:24.092255Z"
    }
   },
   "outputs": [
    {
     "name": "stdout",
     "output_type": "stream",
     "text": [
      "<class 'pandas.core.frame.DataFrame'>\n",
      "RangeIndex: 1400 entries, 0 to 1399\n",
      "Data columns (total 3 columns):\n",
      " #   Column      Non-Null Count  Dtype \n",
      "---  ------      --------------  ----- \n",
      " 0   post_id     1400 non-null   int64 \n",
      " 1   tweet_text  1400 non-null   object\n",
      " 2   cord_uid    1400 non-null   object\n",
      "dtypes: int64(1), object(2)\n",
      "memory usage: 32.9+ KB\n"
     ]
    }
   ],
   "execution_count": 31
  },
  {
   "cell_type": "markdown",
   "metadata": {
    "id": "jr_BDzufPmmP"
   },
   "source": "# Tokenization"
  },
  {
   "cell_type": "code",
   "metadata": {
    "colab": {
     "base_uri": "https://localhost:8080/"
    },
    "executionInfo": {
     "elapsed": 3156,
     "status": "ok",
     "timestamp": 1742976045832,
     "user": {
      "displayName": "Yavuz",
      "userId": "01318046262282431930"
     },
     "user_tz": -60
    },
    "id": "BHfJ7ItxO8u8",
    "outputId": "8a4d8f08-31c0-4a9d-814e-b921b80fbe35",
    "ExecuteTime": {
     "end_time": "2025-04-29T12:20:24.245251Z",
     "start_time": "2025-04-29T12:20:24.226254Z"
    }
   },
   "source": [
    "from sklearn.feature_extraction.text import TfidfVectorizer\n",
    "from sklearn.metrics.pairwise import cosine_similarity\n",
    "from sklearn.preprocessing import MinMaxScaler\n",
    "import nltk\n",
    "from nltk.stem import SnowballStemmer\n",
    "from nltk.tokenize import word_tokenize\n",
    "import re\n",
    "from rank_bm25 import BM25Okapi\n",
    "\n",
    "# Download necessary NLTK resources (if not already downloaded)\n",
    "nltk.download('punkt_tab')\n",
    "nltk.download('stopwords')\n",
    "nltk.download('averaged_perceptron_tagger_eng')"
   ],
   "outputs": [
    {
     "name": "stderr",
     "output_type": "stream",
     "text": [
      "[nltk_data] Downloading package punkt_tab to\n",
      "[nltk_data]     C:\\Users\\Michael_PC\\AppData\\Roaming\\nltk_data...\n",
      "[nltk_data]   Package punkt_tab is already up-to-date!\n",
      "[nltk_data] Downloading package stopwords to\n",
      "[nltk_data]     C:\\Users\\Michael_PC\\AppData\\Roaming\\nltk_data...\n",
      "[nltk_data]   Package stopwords is already up-to-date!\n",
      "[nltk_data] Downloading package averaged_perceptron_tagger_eng to\n",
      "[nltk_data]     C:\\Users\\Michael_PC\\AppData\\Roaming\\nltk_data...\n",
      "[nltk_data]   Package averaged_perceptron_tagger_eng is already up-to-\n",
      "[nltk_data]       date!\n"
     ]
    },
    {
     "data": {
      "text/plain": [
       "True"
      ]
     },
     "execution_count": 32,
     "metadata": {},
     "output_type": "execute_result"
    }
   ],
   "execution_count": 32
  },
  {
   "cell_type": "code",
   "metadata": {
    "id": "jXCC7K_ZPQL2",
    "executionInfo": {
     "status": "ok",
     "timestamp": 1742976047296,
     "user_tz": -60,
     "elapsed": 1414,
     "user": {
      "displayName": "Yavuz",
      "userId": "01318046262282431930"
     }
    },
    "ExecuteTime": {
     "end_time": "2025-04-29T12:20:24.404251Z",
     "start_time": "2025-04-29T12:20:24.384251Z"
    }
   },
   "source": [
    "def standard_tokenizer(text):\n",
    "    \"\"\"Standard tokenizer with stemming and stop word removal.\"\"\"\n",
    "    if not isinstance(text, str):\n",
    "        return []\n",
    "    text = re.sub(r'http\\S+', '', text)\n",
    "    text = re.sub(r'[^a-zA-Z0-9\\s]', '', text)\n",
    "    tokens = word_tokenize(text.lower())\n",
    "    stop_words = set(nltk.corpus.stopwords.words('english'))\n",
    "    filtered_tokens = [word for word in tokens if word not in stop_words]\n",
    "    stemmer = SnowballStemmer('english')\n",
    "    return [stemmer.stem(word) for word in filtered_tokens]\n",
    "\n",
    "def name_tokenizer(text):\n",
    "    \"\"\"Tokenizer for extracting potential names (capitalized n-grams).\"\"\"\n",
    "    if not isinstance(text, str):\n",
    "        return []\n",
    "    tokens = word_tokenize(text)\n",
    "    pos_tags = nltk.pos_tag(tokens)\n",
    "    name_ngrams = []\n",
    "    for n in [2, 3]:  # Bigrams and trigrams\n",
    "        for i in range(len(pos_tags) - n + 1):\n",
    "            ngram_pos = pos_tags[i:i + n]\n",
    "            ngram_words = [word for word, tag in ngram_pos]\n",
    "            ngram_tags = [tag for word, tag in ngram_pos]\n",
    "            # Check if the current n-gram potentially represents a name or organization\n",
    "            # Condition 1: All words in the n-gram are proper nouns (NNP)\n",
    "            #   - This is common for multi-word names like \"Albert Einstein\" or \"World Health Organization\"\n",
    "            # Condition 2: (For bigrams only) The first word is a proper noun (NNP)\n",
    "            #   and the second word is either a common noun (NN) or another proper noun (NNP)\n",
    "            #   - This can capture patterns like \"Dr. Smith\" or \"Apple Inc.\"\n",
    "            if all(tag == 'NNP' for tag in ngram_tags) or \\\n",
    "               (n == 2 and ngram_tags[0] == 'NNP' and ngram_tags[1] in ['NN', 'NNP']):\n",
    "                    name_ngrams.append(\" \".join(ngram_words).lower())\n",
    "    if not name_ngrams:\n",
    "        return []\n",
    "    return name_ngrams\n",
    "\n",
    "def author_metadata_tokenizer(text):\n",
    "    \"\"\"Tokenizer for extracting authors from specific given format from paper metadata and creating bi-grams\"\"\"\n",
    "    fullname_tokens = text.split(\"; \")\n",
    "    unigram_tokens = [token.split(\", \") for token in fullname_tokens]\n",
    "    unigram_tokens = [token for pair in unigram_tokens for token in pair] # Flatten list\n",
    "    for token in unigram_tokens:\n",
    "        token = token.split(' ')[0] # Remove Surname addons e.g. Daniel R.\n",
    "        token = token.replace('?', '')\n",
    "        token = token.lower()\n",
    "    bigram_tokens = [token.replace(',', '') for token in fullname_tokens]\n",
    "    bigram_tokens = [token.lower() for token in bigram_tokens]\n",
    "    return unigram_tokens + bigram_tokens\n",
    "    \n",
    "def journal_metadata_tokenizer(text):\n",
    "    \"\"\"Tokenizer for creating ngrams from journal names\"\"\"\n",
    "    tokens = standard_tokenizer(text)\n",
    "    multigrams = []\n",
    "    for n in range(0, len(tokens) + 1):\n",
    "        for i in range(len(tokens) - n + 1):\n",
    "            ngram = tokens[i: i + n]\n",
    "            ngram = ' '.join(ngram)\n",
    "\n",
    "            # Skip single chars\n",
    "            if len(ngram) <= 1:\n",
    "                continue\n",
    "\n",
    "            multigrams.append(ngram)\n",
    "    return multigrams\n",
    "\n",
    "def extract_year(text):\n",
    "    \"\"\"Extracts a year (4 digits) from text.\"\"\"\n",
    "    match = re.search(r'\\b\\d{4}\\b', text)\n",
    "    if match:\n",
    "        return int(match.group(0))\n",
    "    return []"
   ],
   "outputs": [],
   "execution_count": 33
  },
  {
   "metadata": {
    "ExecuteTime": {
     "end_time": "2025-04-29T12:29:44.000034Z",
     "start_time": "2025-04-29T12:28:17.070376Z"
    }
   },
   "cell_type": "code",
   "source": [
    "# Initialize BM25 models for different metadata attributes\n",
    "\n",
    "df_collection_cleaned = df_collection.fillna('')\n",
    "\n",
    "tokenized_titles_series = df_collection_cleaned['title'].apply(standard_tokenizer)\n",
    "tokenized_abstracts_series = df_collection_cleaned['abstract'].apply(standard_tokenizer)\n",
    "tokenized_authors_series = df_collection_cleaned['authors'].apply(author_metadata_tokenizer)\n",
    "tokenized_journals_series = df_collection_cleaned['journal'].apply(journal_metadata_tokenizer)\n",
    "# tokenized_time_series = df_collection_cleaned['time'].apply(extract_year)\n",
    "\n",
    "bm25_title = BM25Okapi(tokenized_titles_series)\n",
    "bm25_abstract = BM25Okapi(tokenized_abstracts_series)\n",
    "bm25_authors = BM25Okapi(tokenized_authors_series)\n",
    "bm25_journal = BM25Okapi(tokenized_journals_series)\n",
    "# bm25_time = BM25Okapi(tokenized_time_series)\n",
    "\n",
    "\n",
    "merged_tokenized_corpus = tokenized_titles_series + tokenized_abstracts_series + tokenized_authors_series + tokenized_journals_series\n",
    "bm25 = BM25Okapi(merged_tokenized_corpus)\n",
    "\n",
    "cord_uids = df_collection['cord_uid'].tolist()"
   ],
   "outputs": [],
   "execution_count": 39
  },
  {
   "metadata": {},
   "cell_type": "markdown",
   "source": "# Evaluating merged metadata BM25"
  },
  {
   "metadata": {
    "ExecuteTime": {
     "end_time": "2025-04-29T11:57:11.505380Z",
     "start_time": "2025-04-29T11:57:11.487381Z"
    }
   },
   "cell_type": "code",
   "source": [
    "def get_top_cord_uids(query):\n",
    "  text2bm25top = {}\n",
    "  if query in text2bm25top.keys():\n",
    "      return text2bm25top[query]\n",
    "  else:\n",
    "      tokenized_query = query.split(' ')\n",
    "      doc_scores = bm25.get_scores(tokenized_query)\n",
    "      indices = np.argsort(-doc_scores)[:5]\n",
    "      bm25_topk = [cord_uids[x] for x in indices]\n",
    "\n",
    "      text2bm25top[query] = bm25_topk\n",
    "      return bm25_topk\n"
   ],
   "outputs": [],
   "execution_count": 17
  },
  {
   "metadata": {
    "ExecuteTime": {
     "end_time": "2025-04-29T12:12:52.817686Z",
     "start_time": "2025-04-29T11:57:14.234597Z"
    }
   },
   "cell_type": "code",
   "source": [
    "# Retrieve topk candidates using the BM25 model\n",
    "df_query_train['bm25_topk'] = df_query_train['tweet_text'].apply(lambda x: get_top_cord_uids(x))\n",
    "df_query_dev['bm25_topk'] = df_query_dev['tweet_text'].apply(lambda x: get_top_cord_uids(x))"
   ],
   "outputs": [],
   "execution_count": 18
  },
  {
   "metadata": {
    "ExecuteTime": {
     "end_time": "2025-04-29T12:12:56.063394Z",
     "start_time": "2025-04-29T12:12:56.049395Z"
    }
   },
   "cell_type": "code",
   "source": [
    "# Evaluate retrieved candidates using MRR@k\n",
    "def get_performance_mrr(data, col_gold, col_pred, list_k = [1, 5, 10]):\n",
    "    d_performance = {}\n",
    "    for k in list_k:\n",
    "        data[\"in_topx\"] = data.apply(lambda x: (1/([i for i in x[col_pred][:k]].index(x[col_gold]) + 1) if x[col_gold] in [i for i in x[col_pred][:k]] else 0), axis=1)\n",
    "        #performances.append(data[\"in_topx\"].mean())\n",
    "        d_performance[k] = data[\"in_topx\"].mean()\n",
    "    return d_performance"
   ],
   "outputs": [],
   "execution_count": 19
  },
  {
   "metadata": {
    "ExecuteTime": {
     "end_time": "2025-04-29T12:12:57.909223Z",
     "start_time": "2025-04-29T12:12:57.348214Z"
    }
   },
   "cell_type": "code",
   "source": [
    "results_train = get_performance_mrr(df_query_train, 'cord_uid', 'bm25_topk')\n",
    "results_dev = get_performance_mrr(df_query_dev, 'cord_uid', 'bm25_topk')\n",
    "# Printed MRR@k results in the following format: {k: MRR@k}\n",
    "print(f\"Results on the train set: {results_train}\")\n",
    "print(f\"Results on the dev set: {results_dev}\")"
   ],
   "outputs": [
    {
     "name": "stdout",
     "output_type": "stream",
     "text": [
      "Results on the train set: {1: np.float64(0.15895121761456468), 5: np.float64(0.21320573666329518), 10: np.float64(0.21320573666329518)}\n",
      "Results on the dev set: {1: np.float64(0.16428571428571428), 5: np.float64(0.21404761904761901), 10: np.float64(0.21404761904761901)}\n"
     ]
    }
   ],
   "execution_count": 20
  },
  {
   "metadata": {},
   "cell_type": "markdown",
   "source": "# Individual metadata BM25 scoring "
  },
  {
   "metadata": {
    "ExecuteTime": {
     "end_time": "2025-04-29T12:30:24.155148Z",
     "start_time": "2025-04-29T12:30:24.133149Z"
    }
   },
   "cell_type": "code",
   "source": [
    "def get_individual_scores(query_text):\n",
    "    \"\"\"\n",
    "    Calculates individual BM25 scores for a query against all papers.\n",
    "    \"\"\"\n",
    "\n",
    "    tokenized_query_standard = standard_tokenizer(query_text)\n",
    "    tokenized_query_names = name_tokenizer(query_text)\n",
    "\n",
    "    # BM25 scores for different metadata\n",
    "    bm25_scores_title = bm25_title.get_scores(tokenized_query_standard)\n",
    "    bm25_scores_abstract = bm25_abstract.get_scores(tokenized_query_standard)\n",
    "    bm25_scores_authors = bm25_authors.get_scores(tokenized_query_standard + tokenized_query_names)\n",
    "    bm25_scores_journal = bm25_journal.get_scores(tokenized_query_standard + tokenized_query_names)\n",
    "\n",
    "    # Return individual scores\n",
    "    return {\n",
    "        'title_bm25': bm25_scores_title,\n",
    "        'abstract_bm25': bm25_scores_abstract,\n",
    "        'authors_bm25': bm25_scores_authors,\n",
    "        'journal_bm25': bm25_scores_journal\n",
    "    }"
   ],
   "outputs": [],
   "execution_count": 40
  },
  {
   "metadata": {
    "ExecuteTime": {
     "end_time": "2025-04-29T12:36:41.248516Z",
     "start_time": "2025-04-29T12:30:31.788268Z"
    }
   },
   "cell_type": "code",
   "source": [
    "# Calculate and store individual scores for each tweet in the dev set\n",
    "df_query_dev['individual_scores'] = df_query_dev['tweet_text'].apply(get_individual_scores)"
   ],
   "outputs": [],
   "execution_count": 41
  },
  {
   "metadata": {
    "ExecuteTime": {
     "end_time": "2025-04-29T12:36:51.696480Z",
     "start_time": "2025-04-29T12:36:51.625483Z"
    }
   },
   "cell_type": "code",
   "source": "df_query_dev['individual_scores']",
   "outputs": [
    {
     "data": {
      "text/plain": [
       "0       {'title_bm25': [1.7974183621509057, 0.0, 0.0, ...\n",
       "1       {'title_bm25': [13.587086449502365, 0.0, 0.0, ...\n",
       "2       {'title_bm25': [0.0, 0.0, 0.0, 0.0, 0.0, 0.0, ...\n",
       "3       {'title_bm25': [1.7974183621509057, 0.0, 0.0, ...\n",
       "4       {'title_bm25': [0.0, 0.0, 0.0, 0.0, 0.0, 0.0, ...\n",
       "                              ...                        \n",
       "1395    {'title_bm25': [3.767834226949666, 0.0, 0.0, 0...\n",
       "1396    {'title_bm25': [4.393546311314532, 0.0, 0.0, 0...\n",
       "1397    {'title_bm25': [0.0, 0.0, 0.0, 0.0, 0.0, 0.0, ...\n",
       "1398    {'title_bm25': [0.0, 0.0, 0.0, 0.0, 0.0, 0.0, ...\n",
       "1399    {'title_bm25': [3.767834226949666, 0.0, 0.0, 0...\n",
       "Name: individual_scores, Length: 1400, dtype: object"
      ]
     },
     "execution_count": 42,
     "metadata": {},
     "output_type": "execute_result"
    }
   ],
   "execution_count": 42
  },
  {
   "metadata": {
    "ExecuteTime": {
     "end_time": "2025-04-29T12:37:00.280004Z",
     "start_time": "2025-04-29T12:37:00.267004Z"
    }
   },
   "cell_type": "code",
   "source": [
    "def rank_papers_with_weights(individual_scores, weights, k=5):\n",
    "    \"\"\"\n",
    "    Calculates weighted similarity using individual scores\n",
    "    and returns top-k cord_uids.\n",
    "    \"\"\"\n",
    "    num_documents = len(df_collection) # Assumes df_collection is available\n",
    "    final_similarity = np.zeros(num_documents)\n",
    "\n",
    "    for key, score_array in individual_scores.items():\n",
    "        if len(score_array) < num_documents:\n",
    "             padded_score_array = np.zeros(num_documents)\n",
    "             padded_score_array[:len(score_array)] = score_array\n",
    "             current_score_array = padded_score_array\n",
    "        else:\n",
    "             current_score_array = score_array\n",
    "\n",
    "        if key in weights:\n",
    "             current_score_array = np.nan_to_num(current_score_array, nan=0.0, posinf=1e10, neginf=-1e10)\n",
    "             final_similarity += weights[key] * current_score_array\n",
    "        else:\n",
    "             print(f\"Warning: No weight found for key '{key}'. Field ignored.\")\n",
    "\n",
    "\n",
    "    final_similarity = np.nan_to_num(final_similarity, nan=0.0, posinf=1e10, neginf=-1e10)\n",
    "\n",
    "    top_indices = np.argsort(-final_similarity)[:k]\n",
    "\n",
    "    return [cord_uids[i] for i in top_indices]"
   ],
   "outputs": [],
   "execution_count": 44
  },
  {
   "metadata": {
    "ExecuteTime": {
     "end_time": "2025-04-29T12:37:04.385568Z",
     "start_time": "2025-04-29T12:37:04.371571Z"
    }
   },
   "cell_type": "code",
   "source": [
    "# Evaluate retrieved candidates using MRR@k\n",
    "def get_performance_mrr(data, col_gold, col_pred, list_k=[1, 5, 10]):\n",
    "    d_performance = {}\n",
    "    for k in list_k:\n",
    "        data[\"in_topx\"] = data.apply(\n",
    "            lambda x: (1 / ([i for i in x[col_pred][:k]].index(x[col_gold]) + 1)\n",
    "                      if x[col_gold] in [i for i in x[col_pred][:k]] else 0), axis=1)\n",
    "        d_performance[k] = data[\"in_topx\"].mean()\n",
    "    return d_performance"
   ],
   "outputs": [],
   "execution_count": 45
  },
  {
   "metadata": {
    "ExecuteTime": {
     "end_time": "2025-04-29T12:37:50.961314Z",
     "start_time": "2025-04-29T12:37:50.943312Z"
    }
   },
   "cell_type": "code",
   "source": [
    "# Define the range or specific values to explore for each weight\n",
    "weight_options = {\n",
    "    'title_bm25': [0.3, 0.5, 1.0],\n",
    "    'abstract_bm25': [0.3, 0.5, 1.0],\n",
    "    'authors_bm25': [0.3, 0.5, 1.0],\n",
    "    'journal_bm25': [0.3, 0.5, 1.0],\n",
    "    'publish_time_sim': [0.3, 0.5, 1.0],\n",
    "}"
   ],
   "outputs": [],
   "execution_count": 47
  },
  {
   "metadata": {
    "ExecuteTime": {
     "end_time": "2025-04-29T12:40:55.325161Z",
     "start_time": "2025-04-29T12:38:00.772047Z"
    }
   },
   "cell_type": "code",
   "source": [
    "import itertools\n",
    "\n",
    "best_mrr = -1\n",
    "best_weights = None\n",
    "\n",
    "# Generate all combinations of weights\n",
    "weight_combinations = list(itertools.product(*weight_options.values()))\n",
    "\n",
    "print(f\"Exploring {len(weight_combinations)} weight combinations with Grid Search...\")\n",
    "\n",
    "for combo in weight_combinations:\n",
    "    current_weights = dict(zip(weight_options.keys(), combo))\n",
    "\n",
    "    # Apply the ranking function with current weights\n",
    "    df_query_dev['preds_grid_search'] = df_query_dev['individual_scores'].apply(\n",
    "        lambda x: rank_papers_with_weights(x, current_weights, k=5)\n",
    "    )\n",
    "\n",
    "    # Evaluate the results (with MRR@5 as the objective)\n",
    "    mrr_at_5 = get_performance_mrr(df_query_dev, 'cord_uid', 'preds_grid_search', list_k=[5])[5]\n",
    "\n",
    "    if mrr_at_5 > best_mrr:\n",
    "        best_mrr = mrr_at_5\n",
    "        best_weights = current_weights\n",
    "        print(f\"New best weights: {current_weights}, MRR@5: {mrr_at_5}\")\n",
    "\n",
    "print(\"\\nGrid Search Finished.\")\n",
    "print(f\"Best MRR@5: {best_mrr}\")\n",
    "print(f\"Best Weights: {best_weights}\")"
   ],
   "outputs": [
    {
     "name": "stdout",
     "output_type": "stream",
     "text": [
      "Exploring 243 weight combinations with Grid Search...\n",
      "New best weights: {'title_bm25': 0.3, 'abstract_bm25': 0.3, 'authors_bm25': 0.3, 'journal_bm25': 0.3, 'publish_time_sim': 0.3}, MRR@5: 0.6110357142857143\n",
      "New best weights: {'title_bm25': 0.3, 'abstract_bm25': 0.5, 'authors_bm25': 0.3, 'journal_bm25': 0.3, 'publish_time_sim': 0.3}, MRR@5: 0.6245833333333333\n",
      "\n",
      "Grid Search Finished.\n",
      "Best MRR@5: 0.6245833333333333\n",
      "Best Weights: {'title_bm25': 0.3, 'abstract_bm25': 0.5, 'authors_bm25': 0.3, 'journal_bm25': 0.3, 'publish_time_sim': 0.3}\n"
     ]
    }
   ],
   "execution_count": 48
  },
  {
   "metadata": {},
   "cell_type": "markdown",
   "source": "## Training set evaluation"
  },
  {
   "metadata": {
    "ExecuteTime": {
     "end_time": "2025-04-29T12:43:10.678570Z",
     "start_time": "2025-04-29T12:43:10.662569Z"
    }
   },
   "cell_type": "code",
   "source": [
    "def get_weighted_similarity_topk(query_text,\n",
    "                        weight_title=0.3,\n",
    "                        weight_abstract=0.5,\n",
    "                        weight_authors=0.3,\n",
    "                        weight_journal=0.3):\n",
    "    \"\"\"\n",
    "    Calculates a weighted similarity score using BM25 on different metadata.\n",
    "    \"\"\"\n",
    "\n",
    "    # BM25 scores for different metadata\n",
    "    tokenized_query_standard = standard_tokenizer(query_text)\n",
    "    tokenized_query_names = name_tokenizer(query_text)\n",
    "\n",
    "    bm25_scores_title = bm25_title.get_scores(tokenized_query_standard)\n",
    "    bm25_scores_abstract = bm25_abstract.get_scores(tokenized_query_standard)\n",
    "    bm25_scores_authors = bm25_authors.get_scores(tokenized_query_names)\n",
    "    bm25_scores_journal = bm25_journal.get_scores(tokenized_query_names)\n",
    "\n",
    "    # Combine weighted BM25 scores and publish time similarity\n",
    "    final_bm25_score = (\n",
    "        weight_title * bm25_scores_title +\n",
    "        weight_abstract * bm25_scores_abstract +\n",
    "        weight_authors * bm25_scores_authors +\n",
    "        weight_journal * bm25_scores_journal\n",
    "    )\n",
    "\n",
    "    top_indices = np.argsort(-final_bm25_score)[:5]\n",
    "    return df_collection['cord_uid'].iloc[top_indices].tolist()"
   ],
   "outputs": [],
   "execution_count": 49
  },
  {
   "metadata": {
    "ExecuteTime": {
     "end_time": "2025-04-29T13:14:53.128443Z",
     "start_time": "2025-04-29T12:43:16.829183Z"
    }
   },
   "cell_type": "code",
   "source": [
    "# Retrieve topk candidates using BM25\n",
    "df_query_train['weighted_bm25_topk'] = df_query_train['tweet_text'].apply(get_weighted_similarity_topk)"
   ],
   "outputs": [],
   "execution_count": 50
  },
  {
   "cell_type": "markdown",
   "metadata": {
    "id": "QVKBlTCZUMSc"
   },
   "source": "# 3) Evaluating BM25 with preprocessing"
  },
  {
   "metadata": {
    "ExecuteTime": {
     "end_time": "2025-04-29T13:15:07.577222Z",
     "start_time": "2025-04-29T13:15:05.035974Z"
    }
   },
   "cell_type": "code",
   "source": [
    "# Evaluate BM25 results with best weights\n",
    "best_weights = {'title_bm25': 1.0, 'abstract_bm25': 0.7, 'authors_bm25': 0.3, 'journal_bm25': 0.3, 'publish_time_sim': 0.1}\n",
    "\n",
    "df_query_dev['weighted_bm25_topk'] = df_query_dev['individual_scores'].apply(\n",
    "    lambda x: rank_papers_with_weights(x, best_weights, k=5)\n",
    ")\n",
    "\n",
    "results_train_weighted_bm25 = get_performance_mrr(df_query_train, 'cord_uid', 'weighted_bm25_topk')\n",
    "results_dev_weighted_bm25 = get_performance_mrr(df_query_dev, 'cord_uid', 'weighted_bm25_topk')"
   ],
   "outputs": [],
   "execution_count": 51
  },
  {
   "cell_type": "code",
   "metadata": {
    "colab": {
     "base_uri": "https://localhost:8080/"
    },
    "executionInfo": {
     "elapsed": 44,
     "status": "ok",
     "timestamp": 1742976568622,
     "user": {
      "displayName": "Yavuz",
      "userId": "01318046262282431930"
     },
     "user_tz": -60
    },
    "id": "xLX9SMg5USkH",
    "outputId": "7c414679-6486-4e08-dffe-23d8cffbddf0",
    "ExecuteTime": {
     "end_time": "2025-04-29T13:15:21.102073Z",
     "start_time": "2025-04-29T13:15:21.049971Z"
    }
   },
   "source": [
    "# Print BM25 MRR@k results\n",
    "print(f\"BM25 Results on the train set: {results_train_weighted_bm25}\")\n",
    "print(f\"BM25 Results on the dev set: {results_dev_weighted_bm25}\")"
   ],
   "outputs": [
    {
     "name": "stdout",
     "output_type": "stream",
     "text": [
      "BM25 Results on the train set: {1: np.float64(0.5713841126585233), 5: np.float64(0.6234536684042636), 10: np.float64(0.6234536684042636)}\n",
      "BM25 Results on the dev set: {1: np.float64(0.5514285714285714), 5: np.float64(0.6051785714285715), 10: np.float64(0.6051785714285715)}\n"
     ]
    }
   ],
   "execution_count": 52
  },
  {
   "cell_type": "markdown",
   "source": [
    "# 4) Exporting results to prepare the submission on Codalab"
   ],
   "metadata": {
    "id": "RazcRTV84KQC"
   }
  },
  {
   "cell_type": "code",
   "source": "df_query_dev['preds'] = df_query_dev['weighted_bm25_topk'].apply(lambda x: x[:5])",
   "metadata": {
    "id": "DFng4ocDw3Hk",
    "executionInfo": {
     "status": "ok",
     "timestamp": 1742976603546,
     "user_tz": -60,
     "elapsed": 39,
     "user": {
      "displayName": "Yavuz",
      "userId": "01318046262282431930"
     }
    },
    "ExecuteTime": {
     "end_time": "2025-04-29T13:16:06.223375Z",
     "start_time": "2025-04-29T13:16:06.211378Z"
    }
   },
   "outputs": [],
   "execution_count": 53
  },
  {
   "cell_type": "code",
   "source": "df_query_dev[['post_id', 'preds']].to_csv('predictions_weighted_bm25.tsv', index=None, sep='\\t')",
   "metadata": {
    "id": "nAVBQYh_xP8O",
    "executionInfo": {
     "status": "ok",
     "timestamp": 1742976608184,
     "user_tz": -60,
     "elapsed": 13,
     "user": {
      "displayName": "Yavuz",
      "userId": "01318046262282431930"
     }
    },
    "ExecuteTime": {
     "end_time": "2025-04-29T13:16:08.605563Z",
     "start_time": "2025-04-29T13:16:08.509733Z"
    }
   },
   "outputs": [],
   "execution_count": 54
  },
  {
   "cell_type": "code",
   "source": [],
   "metadata": {
    "id": "opGI1H1h4Og5",
    "ExecuteTime": {
     "end_time": "2025-04-25T09:26:17.026980Z",
     "start_time": "2025-04-25T09:26:17.022544Z"
    }
   },
   "outputs": [],
   "execution_count": 44
  }
 ],
 "metadata": {
  "colab": {
   "provenance": []
  },
  "kernelspec": {
   "display_name": "Python 3 (ipykernel)",
   "name": "python3",
   "language": "python"
  },
  "language_info": {
   "name": "python"
  }
 },
 "nbformat": 4,
 "nbformat_minor": 0
}
