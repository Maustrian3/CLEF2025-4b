{
 "cells": [
  {
   "cell_type": "code",
   "execution_count": 24,
   "id": "dc808609",
   "metadata": {},
   "outputs": [],
   "source": [
    "import pandas as pd\n",
    "# Read from the JSON file\n",
    "def load_series_from_json(filename):\n",
    "    loaded_series = pd.read_json(filename)\n",
    "    return loaded_series"
   ]
  },
  {
   "cell_type": "code",
   "execution_count": 25,
   "id": "18d0dabe",
   "metadata": {},
   "outputs": [],
   "source": [
    "filename = 'ranked_train'\n",
    "ranked_train = load_series_from_json(filename)\n",
    "\n",
    "filename = 'ranked_dev'\n",
    "ranked_dev = load_series_from_json(filename)"
   ]
  },
  {
   "cell_type": "code",
   "execution_count": 28,
   "id": "b2e38809",
   "metadata": {},
   "outputs": [
    {
     "name": "stdout",
     "output_type": "stream",
     "text": [
      "['25aj8rj5', '66g5lpm6', '59up4v56', 'o4vvlmr4', 'vmmwtdia', 'trrg1mnw', 'hg3xpej0', 'styavbvi', 'jwei2g97', 'bqn29m9k']\n"
     ]
    }
   ],
   "source": [
    "print(ranked_dev['tfidf_topk'][0][:10])"
   ]
  }
 ],
 "metadata": {
  "kernelspec": {
   "display_name": "clef2025-checkthat-lab-wOWB88hd-py3.12",
   "language": "python",
   "name": "python3"
  },
  "language_info": {
   "codemirror_mode": {
    "name": "ipython",
    "version": 3
   },
   "file_extension": ".py",
   "mimetype": "text/x-python",
   "name": "python",
   "nbconvert_exporter": "python",
   "pygments_lexer": "ipython3",
   "version": "3.12.3"
  }
 },
 "nbformat": 4,
 "nbformat_minor": 5
}
