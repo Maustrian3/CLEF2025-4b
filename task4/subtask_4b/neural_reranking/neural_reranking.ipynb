{
 "cells": [
  {
   "cell_type": "code",
   "execution_count": 2,
   "id": "dc808609",
   "metadata": {},
   "outputs": [],
   "source": [
    "import pandas as pd\n",
    "# Read from the JSON file\n",
    "def load_series_from_json(filename):\n",
    "    loaded_series = pd.read_json(filename)\n",
    "    return loaded_series"
   ]
  },
  {
   "cell_type": "code",
   "execution_count": 3,
   "id": "18d0dabe",
   "metadata": {},
   "outputs": [],
   "source": [
    "filename = 'ranked_train'\n",
    "ranked_train = load_series_from_json(filename)\n",
    "\n",
    "filename = 'ranked_dev'\n",
    "ranked_dev = load_series_from_json(filename)"
   ]
  },
  {
   "cell_type": "code",
   "execution_count": 6,
   "id": "b2e38809",
   "metadata": {},
   "outputs": [
    {
     "name": "stdout",
     "output_type": "stream",
     "text": [
      "['htlvpvz5', '32z7b3fp', 'dbgtslc8', '52cub1om', 'h7hj64q5', 'trmwm9qq', '65gedo6u', 'rwgqkow3', 'am11yqbf', 'tpovr13h']\n"
     ]
    }
   ],
   "source": [
    "print(ranked_train['tfidf_topk'][0][:10])"
   ]
  },
  {
   "cell_type": "code",
   "execution_count": 7,
   "id": "00ee3266",
   "metadata": {},
   "outputs": [
    {
     "name": "stdout",
     "output_type": "stream",
     "text": [
      "       post_id                                         tweet_text  cord_uid  \\\n",
      "0            0  Oral care in rehabilitation medicine: oral vul...  htlvpvz5   \n",
      "1            1  this study isn't receiving sufficient attentio...  4kfl29ul   \n",
      "2            2  thanks, xi jinping. a reminder that this study...  jtwb17u8   \n",
      "3            3  Taiwan - a population of 23 million has had ju...  0w9k8iy1   \n",
      "4            4  Obtaining a diagnosis of autism in lower incom...  tiqksd69   \n",
      "...        ...                                                ...       ...   \n",
      "12848    14248  \"evidence on covid-19 reveals a growing body o...  9169o29b   \n",
      "12849    14249  Outdoor lighting has detrimental impacts on lo...  s2bpha8l   \n",
      "12850    14250  26/ and influenza virus (and other pathogens, ...  atloc9th   \n",
      "12851    14251  does it?'sars-cov-2-naïve vaccinees had a 13.0...  t4y1ylb3   \n",
      "12852    14252  when \"the airway immune cells of children are ...  nlsv8bin   \n",
      "\n",
      "                                              tfidf_topk  \n",
      "0      [htlvpvz5, 32z7b3fp, dbgtslc8, 52cub1om, h7hj6...  \n",
      "1      [apqzyln2, asdcpvhx, 33znyrn8, ljcdfmbu, 296il...  \n",
      "2      [jtwb17u8, a0q61mpi, veeavho5, 8hkxbxz9, hnsv4...  \n",
      "3      [lsgm7y5t, 9g0lo2e9, l5ogbl5p, x14iywtr, b97ac...  \n",
      "4      [tiqksd69, k7smwz6w, b0dzhsrh, aqbhxv1f, 0u330...  \n",
      "...                                                  ...  \n",
      "12848  [1y1ik2u9, 1zuhilmu, dgng39yd, 9169o29b, qfren...  \n",
      "12849  [s2bpha8l, 8a3fp7ym, 2u9eenwu, ajzl3y46, jkdyo...  \n",
      "12850  [y7s6qt6j, lavcsqov, g17lp8ch, 7s79900j, 7y6ok...  \n",
      "12851  [t4y1ylb3, 7a543f7v, ro3k6q06, 8ztv34hs, ws3tf...  \n",
      "12852  [nlsv8bin, cwqsbwaj, noxt3ikd, 8gh3q7p3, tiu86...  \n",
      "\n",
      "[12853 rows x 4 columns]\n"
     ]
    }
   ],
   "source": [
    "print(ranked_train)"
   ]
  },
  {
   "cell_type": "code",
   "execution_count": 10,
   "id": "610f981e",
   "metadata": {},
   "outputs": [
    {
     "name": "stdout",
     "output_type": "stream",
     "text": [
      "Oral care in rehabilitation medicine: oral vulnerability, oral muscle wasting, and hospital-associated oral issues\n"
     ]
    }
   ],
   "source": [
    "tweet_texts = ranked_train['tweet_text']\n",
    "print(tweet_texts[0])"
   ]
  },
  {
   "cell_type": "code",
   "execution_count": 36,
   "id": "75e9b29c",
   "metadata": {},
   "outputs": [
    {
     "name": "stdout",
     "output_type": "stream",
     "text": [
      "Maximum length of a tweet:  85\n",
      "Average length of a tweet:  29.8\n"
     ]
    }
   ],
   "source": [
    "max_length_tweet = 0\n",
    "sum_length_tweets = 0\n",
    "list_length_tweets = []\n",
    "for tweet in tweet_texts:\n",
    "    len_tweet = len(tweet.split(' '))\n",
    "    sum_length_tweets += len_tweet\n",
    "    list_length_tweets.append(len_tweet)\n",
    "    if len_tweet > max_length_tweet:\n",
    "        max_length_tweet = len_tweet\n",
    "\n",
    "avg_length_tweets = sum_length_tweets/len(tweet_texts)\n",
    "\n",
    "print(\"Maximum length of a tweet: \", max_length_tweet)\n",
    "print(\"Average length of a tweet: \", f'{avg_length_tweets:.1f}')"
   ]
  },
  {
   "cell_type": "code",
   "execution_count": 37,
   "id": "72ea7447",
   "metadata": {},
   "outputs": [
    {
     "data": {
      "image/png": "[encoded data removed]",
      "text/plain": [
       "<Figure size 640x480 with 1 Axes>"
      ]
     },
     "metadata": {},
     "output_type": "display_data"
    }
   ],
   "source": [
    "import matplotlib.pyplot as plt\n",
    "\n",
    "plt.hist(list_length_tweets)\n",
    "plt.show()"
   ]
  },
  {
   "cell_type": "code",
   "execution_count": 11,
   "id": "8b150803",
   "metadata": {},
   "outputs": [
    {
     "name": "stdout",
     "output_type": "stream",
     "text": [
      "True\n"
     ]
    }
   ],
   "source": [
    "# A check if the corresponding paper is in the top 100\n",
    "print(ranked_train['cord_uid'][0] in ranked_train['tfidf_topk'][0])"
   ]
  },
  {
   "cell_type": "code",
   "execution_count": 12,
   "id": "1cbd2725",
   "metadata": {},
   "outputs": [
    {
     "name": "stdout",
     "output_type": "stream",
     "text": [
      "<class 'pandas.core.frame.DataFrame'>\n",
      "Index: 7718 entries, 162 to 1056448\n",
      "Data columns (total 17 columns):\n",
      " #   Column            Non-Null Count  Dtype         \n",
      "---  ------            --------------  -----         \n",
      " 0   cord_uid          7718 non-null   object        \n",
      " 1   source_x          7718 non-null   object        \n",
      " 2   title             7718 non-null   object        \n",
      " 3   doi               7677 non-null   object        \n",
      " 4   pmcid             4959 non-null   object        \n",
      " 5   pubmed_id         6233 non-null   object        \n",
      " 6   license           7718 non-null   object        \n",
      " 7   abstract          7718 non-null   object        \n",
      " 8   publish_time      7715 non-null   object        \n",
      " 9   authors           7674 non-null   object        \n",
      " 10  journal           6668 non-null   object        \n",
      " 11  mag_id            0 non-null      float64       \n",
      " 12  who_covidence_id  528 non-null    object        \n",
      " 13  arxiv_id          20 non-null     object        \n",
      " 14  label             7718 non-null   object        \n",
      " 15  time              7715 non-null   datetime64[ns]\n",
      " 16  timet             7718 non-null   int64         \n",
      "dtypes: datetime64[ns](1), float64(1), int64(1), object(14)\n",
      "memory usage: 1.1+ MB\n"
     ]
    }
   ],
   "source": [
    "# Import references\n",
    "PATH_COLLECTION_DATA = '../subtask4b_collection_data.pkl'\n",
    "df_collection = pd.read_pickle(PATH_COLLECTION_DATA)\n",
    "df_collection.info()"
   ]
  },
  {
   "cell_type": "code",
   "execution_count": 13,
   "id": "8ace1f2e",
   "metadata": {},
   "outputs": [
    {
     "data": {
      "text/html": [
       "<div>\n",
       "<style scoped>\n",
       "    .dataframe tbody tr th:only-of-type {\n",
       "        vertical-align: middle;\n",
       "    }\n",
       "\n",
       "    .dataframe tbody tr th {\n",
       "        vertical-align: top;\n",
       "    }\n",
       "\n",
       "    .dataframe thead th {\n",
       "        text-align: right;\n",
       "    }\n",
       "</style>\n",
       "<table border=\"1\" class=\"dataframe\">\n",
       "  <thead>\n",
       "    <tr style=\"text-align: right;\">\n",
       "      <th></th>\n",
       "      <th>cord_uid</th>\n",
       "      <th>source_x</th>\n",
       "      <th>title</th>\n",
       "      <th>doi</th>\n",
       "      <th>pmcid</th>\n",
       "      <th>pubmed_id</th>\n",
       "      <th>license</th>\n",
       "      <th>abstract</th>\n",
       "      <th>publish_time</th>\n",
       "      <th>authors</th>\n",
       "      <th>journal</th>\n",
       "      <th>mag_id</th>\n",
       "      <th>who_covidence_id</th>\n",
       "      <th>arxiv_id</th>\n",
       "      <th>label</th>\n",
       "      <th>time</th>\n",
       "      <th>timet</th>\n",
       "    </tr>\n",
       "  </thead>\n",
       "  <tbody>\n",
       "    <tr>\n",
       "      <th>162</th>\n",
       "      <td>umvrwgaw</td>\n",
       "      <td>PMC</td>\n",
       "      <td>Professional and Home-Made Face Masks Reduce E...</td>\n",
       "      <td>10.1371/journal.pone.0002618</td>\n",
       "      <td>PMC2440799</td>\n",
       "      <td>18612429</td>\n",
       "      <td>cc-by</td>\n",
       "      <td>BACKGROUND: Governments are preparing for a po...</td>\n",
       "      <td>2008-07-09</td>\n",
       "      <td>van der Sande, Marianne; Teunis, Peter; Sabel,...</td>\n",
       "      <td>PLoS One</td>\n",
       "      <td>NaN</td>\n",
       "      <td>NaN</td>\n",
       "      <td>NaN</td>\n",
       "      <td>umvrwgaw</td>\n",
       "      <td>2008-07-09</td>\n",
       "      <td>1215561600</td>\n",
       "    </tr>\n",
       "    <tr>\n",
       "      <th>611</th>\n",
       "      <td>spiud6ok</td>\n",
       "      <td>PMC</td>\n",
       "      <td>The Failure of R (0)</td>\n",
       "      <td>10.1155/2011/527610</td>\n",
       "      <td>PMC3157160</td>\n",
       "      <td>21860658</td>\n",
       "      <td>cc-by</td>\n",
       "      <td>The basic reproductive ratio, R (0), is one of...</td>\n",
       "      <td>2011-08-16</td>\n",
       "      <td>Li, Jing; Blakeley, Daniel; Smith?, Robert J.</td>\n",
       "      <td>Comput Math Methods Med</td>\n",
       "      <td>NaN</td>\n",
       "      <td>NaN</td>\n",
       "      <td>NaN</td>\n",
       "      <td>spiud6ok</td>\n",
       "      <td>2011-08-16</td>\n",
       "      <td>1313452800</td>\n",
       "    </tr>\n",
       "    <tr>\n",
       "      <th>918</th>\n",
       "      <td>aclzp3iy</td>\n",
       "      <td>PMC</td>\n",
       "      <td>Pulmonary sequelae in a patient recovered from...</td>\n",
       "      <td>10.4103/0970-2113.99118</td>\n",
       "      <td>PMC3424870</td>\n",
       "      <td>22919170</td>\n",
       "      <td>cc-by-nc-sa</td>\n",
       "      <td>The pandemic of swine flu (H1N1) influenza spr...</td>\n",
       "      <td>2012</td>\n",
       "      <td>Singh, Virendra; Sharma, Bharat Bhushan; Patel...</td>\n",
       "      <td>Lung India</td>\n",
       "      <td>NaN</td>\n",
       "      <td>NaN</td>\n",
       "      <td>NaN</td>\n",
       "      <td>aclzp3iy</td>\n",
       "      <td>2012-01-01</td>\n",
       "      <td>1325376000</td>\n",
       "    </tr>\n",
       "    <tr>\n",
       "      <th>993</th>\n",
       "      <td>ycxyn2a2</td>\n",
       "      <td>PMC</td>\n",
       "      <td>What was the primary mode of smallpox transmis...</td>\n",
       "      <td>10.3389/fcimb.2012.00150</td>\n",
       "      <td>PMC3509329</td>\n",
       "      <td>23226686</td>\n",
       "      <td>cc-by</td>\n",
       "      <td>The mode of infection transmission has profoun...</td>\n",
       "      <td>2012-11-29</td>\n",
       "      <td>Milton, Donald K.</td>\n",
       "      <td>Front Cell Infect Microbiol</td>\n",
       "      <td>NaN</td>\n",
       "      <td>NaN</td>\n",
       "      <td>NaN</td>\n",
       "      <td>ycxyn2a2</td>\n",
       "      <td>2012-11-29</td>\n",
       "      <td>1354147200</td>\n",
       "    </tr>\n",
       "    <tr>\n",
       "      <th>1053</th>\n",
       "      <td>zxe95qy9</td>\n",
       "      <td>PMC</td>\n",
       "      <td>Lessons from the History of Quarantine, from P...</td>\n",
       "      <td>10.3201/eid1902.120312</td>\n",
       "      <td>PMC3559034</td>\n",
       "      <td>23343512</td>\n",
       "      <td>no-cc</td>\n",
       "      <td>In the new millennium, the centuries-old strat...</td>\n",
       "      <td>2013-02-03</td>\n",
       "      <td>Tognotti, Eugenia</td>\n",
       "      <td>Emerg Infect Dis</td>\n",
       "      <td>NaN</td>\n",
       "      <td>NaN</td>\n",
       "      <td>NaN</td>\n",
       "      <td>zxe95qy9</td>\n",
       "      <td>2013-02-03</td>\n",
       "      <td>1359849600</td>\n",
       "    </tr>\n",
       "  </tbody>\n",
       "</table>\n",
       "</div>"
      ],
      "text/plain": [
       "      cord_uid source_x                                              title  \\\n",
       "162   umvrwgaw      PMC  Professional and Home-Made Face Masks Reduce E...   \n",
       "611   spiud6ok      PMC                               The Failure of R (0)   \n",
       "918   aclzp3iy      PMC  Pulmonary sequelae in a patient recovered from...   \n",
       "993   ycxyn2a2      PMC  What was the primary mode of smallpox transmis...   \n",
       "1053  zxe95qy9      PMC  Lessons from the History of Quarantine, from P...   \n",
       "\n",
       "                               doi       pmcid pubmed_id      license  \\\n",
       "162   10.1371/journal.pone.0002618  PMC2440799  18612429        cc-by   \n",
       "611            10.1155/2011/527610  PMC3157160  21860658        cc-by   \n",
       "918        10.4103/0970-2113.99118  PMC3424870  22919170  cc-by-nc-sa   \n",
       "993       10.3389/fcimb.2012.00150  PMC3509329  23226686        cc-by   \n",
       "1053        10.3201/eid1902.120312  PMC3559034  23343512        no-cc   \n",
       "\n",
       "                                               abstract publish_time  \\\n",
       "162   BACKGROUND: Governments are preparing for a po...   2008-07-09   \n",
       "611   The basic reproductive ratio, R (0), is one of...   2011-08-16   \n",
       "918   The pandemic of swine flu (H1N1) influenza spr...         2012   \n",
       "993   The mode of infection transmission has profoun...   2012-11-29   \n",
       "1053  In the new millennium, the centuries-old strat...   2013-02-03   \n",
       "\n",
       "                                                authors  \\\n",
       "162   van der Sande, Marianne; Teunis, Peter; Sabel,...   \n",
       "611       Li, Jing; Blakeley, Daniel; Smith?, Robert J.   \n",
       "918   Singh, Virendra; Sharma, Bharat Bhushan; Patel...   \n",
       "993                                   Milton, Donald K.   \n",
       "1053                                  Tognotti, Eugenia   \n",
       "\n",
       "                          journal  mag_id who_covidence_id arxiv_id     label  \\\n",
       "162                      PLoS One     NaN              NaN      NaN  umvrwgaw   \n",
       "611       Comput Math Methods Med     NaN              NaN      NaN  spiud6ok   \n",
       "918                    Lung India     NaN              NaN      NaN  aclzp3iy   \n",
       "993   Front Cell Infect Microbiol     NaN              NaN      NaN  ycxyn2a2   \n",
       "1053             Emerg Infect Dis     NaN              NaN      NaN  zxe95qy9   \n",
       "\n",
       "           time       timet  \n",
       "162  2008-07-09  1215561600  \n",
       "611  2011-08-16  1313452800  \n",
       "918  2012-01-01  1325376000  \n",
       "993  2012-11-29  1354147200  \n",
       "1053 2013-02-03  1359849600  "
      ]
     },
     "execution_count": 13,
     "metadata": {},
     "output_type": "execute_result"
    }
   ],
   "source": [
    "df_collection.head()"
   ]
  },
  {
   "cell_type": "code",
   "execution_count": 14,
   "id": "44add005",
   "metadata": {},
   "outputs": [
    {
     "name": "stdout",
     "output_type": "stream",
     "text": [
      "This cross-sectional study examines rates of cognitive impairment among patients who survived COVID-19 and whether the care setting was associated with cognitive impairment rates. \n",
      "\n",
      "cord_uid\n",
      "umvrwgaw    BACKGROUND: Governments are preparing for a po...\n",
      "spiud6ok    The basic reproductive ratio, R (0), is one of...\n",
      "aclzp3iy    The pandemic of swine flu (H1N1) influenza spr...\n",
      "ycxyn2a2    The mode of infection transmission has profoun...\n",
      "zxe95qy9    In the new millennium, the centuries-old strat...\n",
      "Name: abstract, dtype: object\n"
     ]
    }
   ],
   "source": [
    "paper_info = df_collection.set_index('cord_uid')['abstract']\n",
    "print(paper_info['3qvh482o'], '\\n')\n",
    "print(paper_info[:5])"
   ]
  },
  {
   "cell_type": "code",
   "execution_count": 34,
   "id": "e9c5aa11",
   "metadata": {},
   "outputs": [
    {
     "name": "stdout",
     "output_type": "stream",
     "text": [
      "Maximum length of the abstracts:  1234\n",
      "Average length of an abstract:  232.0\n"
     ]
    }
   ],
   "source": [
    "max_length_abstract = 0\n",
    "sum_length_abstracts = 0\n",
    "list_length_abstracts = []\n",
    "paper_info_list = paper_info.values.tolist()\n",
    "for abstract in paper_info_list:\n",
    "    word_count = len(abstract.split(' '))\n",
    "    sum_length_abstracts += word_count\n",
    "    list_length_abstracts.append(word_count)\n",
    "    if word_count > max_length_abstract:\n",
    "        max_length_abstract = word_count\n",
    "\n",
    "avg_length_abstracts = sum_length_abstracts/len(paper_info_list)\n",
    "\n",
    "print(\"Maximum length of the abstracts: \", max_length_abstract)\n",
    "print(\"Average length of an abstract: \", f'{avg_length_abstracts:.1f}')"
   ]
  },
  {
   "cell_type": "code",
   "execution_count": null,
   "id": "ddd1edb3",
   "metadata": {},
   "outputs": [
    {
     "data": {
      "image/png": "[encoded data removed]",
      "text/plain": [
       "<Figure size 640x480 with 1 Axes>"
      ]
     },
     "metadata": {},
     "output_type": "display_data"
    }
   ],
   "source": [
    "plt.hist(list_length_abstracts)\n",
    "plt.show()\n"
   ]
  }
 ],
 "metadata": {
  "kernelspec": {
   "display_name": ".venv",
   "language": "python",
   "name": "python3"
  },
  "language_info": {
   "codemirror_mode": {
    "name": "ipython",
    "version": 3
   },
   "file_extension": ".py",
   "mimetype": "text/x-python",
   "name": "python",
   "nbconvert_exporter": "python",
   "pygments_lexer": "ipython3",
   "version": "3.10.17"
  }
 },
 "nbformat": 4,
 "nbformat_minor": 5
}
